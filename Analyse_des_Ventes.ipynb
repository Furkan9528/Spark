{
 "cells": [
  {
   "cell_type": "markdown",
   "id": "2f51fea1",
   "metadata": {},
   "source": [
    "# **ANALYSE DES VENTES D'UN MAGASIN DE PRODUITS ELECTRONIQUES**\n",
    "\n",
    "J'ai essayé d'analyser les données de cette entreprise pour l'année 2019 en répondant aux questions suivantes :\n",
    "\n",
    "1- Quel est le meilleur mois de vente ? et Quel est le chiffre d'affaires de ce mois ? \\\n",
    "2- Dans quelle ville a-t-on le plus vendu de produits ? \\\n",
    "3- A quelle heure devons-nous passer de la publicité pour augmenter nos ventes ? \\\n",
    "4- Quels sont les produits qui sont souvent achetés ensemble ? \\\n",
    "5- Quel produit a-t-on le plus vendu? \n",
    "\n",
    "Je vais accompagner mes solutions de visualisations pertinentes afin d'aider le business à améliorer ses chiffres de l'année suivante."
   ]
  },
  {
   "cell_type": "markdown",
   "id": "b1471c36",
   "metadata": {},
   "source": [
    "#  La List"
   ]
  },
  {
   "cell_type": "code",
   "execution_count": 1,
   "id": "d9aded40",
   "metadata": {},
   "outputs": [],
   "source": [
    "import pandas\n",
    "import findspark\n",
    "findspark.init()\n",
    "from pyspark.sql import SparkSession\n",
    "spark = SparkSession.builder \\\n",
    "          .master(\"local[10]\") \\\n",
    "          .appName(\"Big-Data-Analyse-Des-Ventes\") \\\n",
    "          .getOrCreate()"
   ]
  },
  {
   "cell_type": "code",
   "execution_count": 2,
   "id": "796cb39b",
   "metadata": {},
   "outputs": [
    {
     "data": {
      "text/html": [
       "<div>\n",
       "<style scoped>\n",
       "    .dataframe tbody tr th:only-of-type {\n",
       "        vertical-align: middle;\n",
       "    }\n",
       "\n",
       "    .dataframe tbody tr th {\n",
       "        vertical-align: top;\n",
       "    }\n",
       "\n",
       "    .dataframe thead th {\n",
       "        text-align: right;\n",
       "    }\n",
       "</style>\n",
       "<table border=\"1\" class=\"dataframe\">\n",
       "  <thead>\n",
       "    <tr style=\"text-align: right;\">\n",
       "      <th></th>\n",
       "      <th>Order ID</th>\n",
       "      <th>Product</th>\n",
       "      <th>Quantity Ordered</th>\n",
       "      <th>Price Each</th>\n",
       "      <th>Purchase_Address</th>\n",
       "      <th>Month</th>\n",
       "      <th>Sales</th>\n",
       "      <th>City</th>\n",
       "      <th>Hour</th>\n",
       "      <th>Time</th>\n",
       "    </tr>\n",
       "  </thead>\n",
       "  <tbody>\n",
       "    <tr>\n",
       "      <th>0</th>\n",
       "      <td>147268</td>\n",
       "      <td>Wired Headphones</td>\n",
       "      <td>1</td>\n",
       "      <td>11.99</td>\n",
       "      <td>9 Lake St New York City NY 10001</td>\n",
       "      <td>January</td>\n",
       "      <td>11.99</td>\n",
       "      <td>New York City</td>\n",
       "      <td>3</td>\n",
       "      <td>03:07:00</td>\n",
       "    </tr>\n",
       "    <tr>\n",
       "      <th>1</th>\n",
       "      <td>148041</td>\n",
       "      <td>USB-C Charging Cable</td>\n",
       "      <td>1</td>\n",
       "      <td>11.95</td>\n",
       "      <td>760 Church St San Francisco CA 94016</td>\n",
       "      <td>January</td>\n",
       "      <td>11.95</td>\n",
       "      <td>San Francisco</td>\n",
       "      <td>3</td>\n",
       "      <td>03:40:00</td>\n",
       "    </tr>\n",
       "    <tr>\n",
       "      <th>2</th>\n",
       "      <td>149343</td>\n",
       "      <td>Apple Airpods Headphones</td>\n",
       "      <td>1</td>\n",
       "      <td>150.00</td>\n",
       "      <td>735 5th St New York City NY 10001</td>\n",
       "      <td>January</td>\n",
       "      <td>150.00</td>\n",
       "      <td>New York City</td>\n",
       "      <td>4</td>\n",
       "      <td>04:56:00</td>\n",
       "    </tr>\n",
       "    <tr>\n",
       "      <th>3</th>\n",
       "      <td>149964</td>\n",
       "      <td>AAA Batteries (4-pack)</td>\n",
       "      <td>1</td>\n",
       "      <td>2.99</td>\n",
       "      <td>75 Jackson St Dallas TX 75001</td>\n",
       "      <td>January</td>\n",
       "      <td>2.99</td>\n",
       "      <td>Dallas</td>\n",
       "      <td>5</td>\n",
       "      <td>05:53:00</td>\n",
       "    </tr>\n",
       "    <tr>\n",
       "      <th>4</th>\n",
       "      <td>149350</td>\n",
       "      <td>USB-C Charging Cable</td>\n",
       "      <td>2</td>\n",
       "      <td>11.95</td>\n",
       "      <td>943 2nd St Atlanta GA 30301</td>\n",
       "      <td>January</td>\n",
       "      <td>23.90</td>\n",
       "      <td>Atlanta</td>\n",
       "      <td>6</td>\n",
       "      <td>06:03:00</td>\n",
       "    </tr>\n",
       "    <tr>\n",
       "      <th>...</th>\n",
       "      <td>...</td>\n",
       "      <td>...</td>\n",
       "      <td>...</td>\n",
       "      <td>...</td>\n",
       "      <td>...</td>\n",
       "      <td>...</td>\n",
       "      <td>...</td>\n",
       "      <td>...</td>\n",
       "      <td>...</td>\n",
       "      <td>...</td>\n",
       "    </tr>\n",
       "    <tr>\n",
       "      <th>95</th>\n",
       "      <td>147451</td>\n",
       "      <td>Wired Headphones</td>\n",
       "      <td>1</td>\n",
       "      <td>11.99</td>\n",
       "      <td>229 Elm St New York City NY 10001</td>\n",
       "      <td>January</td>\n",
       "      <td>11.99</td>\n",
       "      <td>New York City</td>\n",
       "      <td>12</td>\n",
       "      <td>12:57:00</td>\n",
       "    </tr>\n",
       "    <tr>\n",
       "      <th>96</th>\n",
       "      <td>147932</td>\n",
       "      <td>Macbook Pro Laptop</td>\n",
       "      <td>1</td>\n",
       "      <td>1700.00</td>\n",
       "      <td>477 Main St Boston MA 02215</td>\n",
       "      <td>January</td>\n",
       "      <td>1700.00</td>\n",
       "      <td>Boston</td>\n",
       "      <td>12</td>\n",
       "      <td>12:59:00</td>\n",
       "    </tr>\n",
       "    <tr>\n",
       "      <th>97</th>\n",
       "      <td>142178</td>\n",
       "      <td>AAA Batteries (4-pack)</td>\n",
       "      <td>1</td>\n",
       "      <td>2.99</td>\n",
       "      <td>877 10th St Seattle WA 98101</td>\n",
       "      <td>January</td>\n",
       "      <td>2.99</td>\n",
       "      <td>Seattle</td>\n",
       "      <td>12</td>\n",
       "      <td>12:59:00</td>\n",
       "    </tr>\n",
       "    <tr>\n",
       "      <th>98</th>\n",
       "      <td>145319</td>\n",
       "      <td>Apple Airpods Headphones</td>\n",
       "      <td>1</td>\n",
       "      <td>150.00</td>\n",
       "      <td>905 River St San Francisco CA 94016</td>\n",
       "      <td>January</td>\n",
       "      <td>150.00</td>\n",
       "      <td>San Francisco</td>\n",
       "      <td>13</td>\n",
       "      <td>13:05:00</td>\n",
       "    </tr>\n",
       "    <tr>\n",
       "      <th>99</th>\n",
       "      <td>144460</td>\n",
       "      <td>Apple Airpods Headphones</td>\n",
       "      <td>1</td>\n",
       "      <td>150.00</td>\n",
       "      <td>624 5th St Los Angeles CA 90001</td>\n",
       "      <td>January</td>\n",
       "      <td>150.00</td>\n",
       "      <td>Los Angeles</td>\n",
       "      <td>13</td>\n",
       "      <td>13:08:00</td>\n",
       "    </tr>\n",
       "  </tbody>\n",
       "</table>\n",
       "<p>100 rows × 10 columns</p>\n",
       "</div>"
      ],
      "text/plain": [
       "    Order ID                   Product  Quantity Ordered  Price Each  \\\n",
       "0     147268          Wired Headphones                 1       11.99   \n",
       "1     148041      USB-C Charging Cable                 1       11.95   \n",
       "2     149343  Apple Airpods Headphones                 1      150.00   \n",
       "3     149964    AAA Batteries (4-pack)                 1        2.99   \n",
       "4     149350      USB-C Charging Cable                 2       11.95   \n",
       "..       ...                       ...               ...         ...   \n",
       "95    147451          Wired Headphones                 1       11.99   \n",
       "96    147932        Macbook Pro Laptop                 1     1700.00   \n",
       "97    142178    AAA Batteries (4-pack)                 1        2.99   \n",
       "98    145319  Apple Airpods Headphones                 1      150.00   \n",
       "99    144460  Apple Airpods Headphones                 1      150.00   \n",
       "\n",
       "                        Purchase_Address    Month    Sales           City  \\\n",
       "0       9 Lake St New York City NY 10001  January    11.99  New York City   \n",
       "1   760 Church St San Francisco CA 94016  January    11.95  San Francisco   \n",
       "2      735 5th St New York City NY 10001  January   150.00  New York City   \n",
       "3          75 Jackson St Dallas TX 75001  January     2.99         Dallas   \n",
       "4            943 2nd St Atlanta GA 30301  January    23.90        Atlanta   \n",
       "..                                   ...      ...      ...            ...   \n",
       "95     229 Elm St New York City NY 10001  January    11.99  New York City   \n",
       "96           477 Main St Boston MA 02215  January  1700.00         Boston   \n",
       "97          877 10th St Seattle WA 98101  January     2.99        Seattle   \n",
       "98   905 River St San Francisco CA 94016  January   150.00  San Francisco   \n",
       "99       624 5th St Los Angeles CA 90001  January   150.00    Los Angeles   \n",
       "\n",
       "    Hour      Time  \n",
       "0      3  03:07:00  \n",
       "1      3  03:40:00  \n",
       "2      4  04:56:00  \n",
       "3      5  05:53:00  \n",
       "4      6  06:03:00  \n",
       "..   ...       ...  \n",
       "95    12  12:57:00  \n",
       "96    12  12:59:00  \n",
       "97    12  12:59:00  \n",
       "98    13  13:05:00  \n",
       "99    13  13:08:00  \n",
       "\n",
       "[100 rows x 10 columns]"
      ]
     },
     "execution_count": 2,
     "metadata": {},
     "output_type": "execute_result"
    }
   ],
   "source": [
    "df_from_file = spark.read \\\n",
    ".option(\"header\",\"True\") \\\n",
    ".option(\"sep\",\",\") \\\n",
    ".option(\"inferSchema\", \"True\") \\\n",
    ".csv(\"C:\\\\Users\\\\furkan\\\\spark\\\\Datasets\\\\dataset.csv\")\n",
    "\n",
    "df_from_file.limit(10000).toPandas().head(100)"
   ]
  },
  {
   "cell_type": "markdown",
   "id": "ec3edeff",
   "metadata": {},
   "source": [
    "# Le schéma"
   ]
  },
  {
   "cell_type": "code",
   "execution_count": 3,
   "id": "9c368a45",
   "metadata": {},
   "outputs": [
    {
     "name": "stdout",
     "output_type": "stream",
     "text": [
      "root\n",
      " |-- Order ID: integer (nullable = true)\n",
      " |-- Product: string (nullable = true)\n",
      " |-- Quantity Ordered: integer (nullable = true)\n",
      " |-- Price Each: double (nullable = true)\n",
      " |-- Purchase_Address: string (nullable = true)\n",
      " |-- Month: string (nullable = true)\n",
      " |-- Sales: double (nullable = true)\n",
      " |-- City: string (nullable = true)\n",
      " |-- Hour: integer (nullable = true)\n",
      " |-- Time: string (nullable = true)\n",
      "\n"
     ]
    }
   ],
   "source": [
    "df_from_file.printSchema()"
   ]
  },
  {
   "cell_type": "markdown",
   "id": "610bf6c3",
   "metadata": {},
   "source": [
    "# 1- Le meilleur mois de vente et son chiffre d’affaires"
   ]
  },
  {
   "cell_type": "code",
   "execution_count": 4,
   "id": "0b9aa269",
   "metadata": {},
   "outputs": [],
   "source": [
    "import matplotlib.pyplot as plt"
   ]
  },
  {
   "cell_type": "code",
   "execution_count": 5,
   "id": "5cf2c0e2",
   "metadata": {},
   "outputs": [],
   "source": [
    "df_from_file.createOrReplaceTempView(\"dataset\")"
   ]
  },
  {
   "cell_type": "code",
   "execution_count": 6,
   "id": "028ed6f9",
   "metadata": {},
   "outputs": [],
   "source": [
    "df_from_file.createOrReplaceTempView(\"dataset_produit\")"
   ]
  },
  {
   "cell_type": "code",
   "execution_count": 7,
   "id": "d9aa3332",
   "metadata": {},
   "outputs": [],
   "source": [
    "Meilleur_Produit = spark.sql(\"\"\"\n",
    "        SELECT  Product as Produit , SUM(Sales) as Ventes\n",
    "        From dataset_produit    \n",
    "        GROUP BY Produit\n",
    "\"\"\")"
   ]
  },
  {
   "cell_type": "code",
   "execution_count": 8,
   "id": "9e551191",
   "metadata": {},
   "outputs": [],
   "source": [
    "pandas_df1 = Meilleur_Produit.toPandas()"
   ]
  },
  {
   "cell_type": "code",
   "execution_count": 9,
   "id": "772b7ad9",
   "metadata": {
    "scrolled": true
   },
   "outputs": [
    {
     "data": {
      "image/png": "[encoded data removed]",
      "text/plain": [
       "<Figure size 432x288 with 1 Axes>"
      ]
     },
     "metadata": {
      "needs_background": "light"
     },
     "output_type": "display_data"
    }
   ],
   "source": [
    "pandas_df1.plot(x='Produit', y='Ventes' , kind='barh')\n",
    "plt.show()"
   ]
  },
  {
   "cell_type": "code",
   "execution_count": 10,
   "id": "f983aa99",
   "metadata": {},
   "outputs": [],
   "source": [
    "Meilleur_Mois = spark.sql(\"\"\"\n",
    "        SELECT  Month as Mois, SUM(Sales) as Ventes \n",
    "        From dataset\n",
    "        GROUP BY Mois\n",
    "        ORDER BY Ventes DESC    \n",
    "\"\"\")"
   ]
  },
  {
   "cell_type": "code",
   "execution_count": 11,
   "id": "56621e75",
   "metadata": {},
   "outputs": [],
   "source": [
    "pandas_df = Meilleur_Mois.toPandas()"
   ]
  },
  {
   "cell_type": "code",
   "execution_count": 12,
   "id": "2a81b1d8",
   "metadata": {},
   "outputs": [
    {
     "data": {
      "text/plain": [
       "<AxesSubplot:xlabel='Mois'>"
      ]
     },
     "execution_count": 12,
     "metadata": {},
     "output_type": "execute_result"
    },
    {
     "data": {
      "image/png": "[encoded data removed]",
      "text/plain": [
       "<Figure size 432x288 with 1 Axes>"
      ]
     },
     "metadata": {
      "needs_background": "light"
     },
     "output_type": "display_data"
    }
   ],
   "source": [
    "pandas_df.plot(x='Mois', y='Ventes' , kind='bar')\n",
    "\n",
    "# plt.xlabel('Sales')\n",
    "# plt.ylabel('Month')\n",
    "\n",
    "# Afficher le graphique\n",
    "\n",
    "\n"
   ]
  },
  {
   "cell_type": "markdown",
   "id": "e44956f0",
   "metadata": {},
   "source": [
    "# **2- Dans quelle ville a-t-on le plus vendu de produits ?**"
   ]
  },
  {
   "cell_type": "code",
   "execution_count": 13,
   "id": "09b3401b",
   "metadata": {},
   "outputs": [],
   "source": [
    "import seaborn as sns"
   ]
  },
  {
   "cell_type": "code",
   "execution_count": 14,
   "id": "c6a9ec2e",
   "metadata": {},
   "outputs": [],
   "source": [
    "df_from_file.createOrReplaceTempView(\"dataset_city\")"
   ]
  },
  {
   "cell_type": "code",
   "execution_count": 15,
   "id": "1626f713",
   "metadata": {},
   "outputs": [],
   "source": [
    "Meilleur_Produit = spark.sql(\"\"\"\n",
    "        SELECT  City as City, SUM(Sales) as Ventes\n",
    "        FROM dataset_city\n",
    "        GROUP BY City\n",
    "\"\"\").toPandas()"
   ]
  },
  {
   "cell_type": "code",
   "execution_count": 16,
   "id": "d3b7f3b8",
   "metadata": {},
   "outputs": [
    {
     "data": {
      "text/plain": [
       "<Figure size 72x72 with 0 Axes>"
      ]
     },
     "execution_count": 16,
     "metadata": {},
     "output_type": "execute_result"
    },
    {
     "data": {
      "image/png": "[encoded data removed]",
      "text/plain": [
       "<Figure size 432x288 with 1 Axes>"
      ]
     },
     "metadata": {
      "needs_background": "light"
     },
     "output_type": "display_data"
    },
    {
     "data": {
      "text/plain": [
       "<Figure size 72x72 with 0 Axes>"
      ]
     },
     "metadata": {},
     "output_type": "display_data"
    }
   ],
   "source": [
    "ax = sns.barplot(data=Meilleur_Produit, x='City', y='Ventes')\n",
    "ax.set_xticklabels(ax.get_xticklabels(), rotation=45, ha='right')\n",
    "\n",
    "plt.figure(figsize=(1,1))\n"
   ]
  },
  {
   "cell_type": "markdown",
   "id": "909b56c5",
   "metadata": {},
   "source": [
    "# **3- A quelle heure devons-nous passer de la publicité pour augmenter nos ventes ?**\n"
   ]
  },
  {
   "cell_type": "code",
   "execution_count": 17,
   "id": "7ce70511",
   "metadata": {},
   "outputs": [],
   "source": [
    "import seaborn as sns"
   ]
  },
  {
   "cell_type": "code",
   "execution_count": 18,
   "id": "c6919410",
   "metadata": {},
   "outputs": [],
   "source": [
    "Meilleur_heure = spark.sql(\"\"\"\n",
    "\n",
    "    SELECT Hour as Heure, count(Sales) as Nombre  From dataset\n",
    "    GROUP BY Hour\n",
    "    ORDER BY Nombre DESC\n",
    "    \n",
    "\"\"\").toPandas().head(120)"
   ]
  },
  {
   "cell_type": "code",
   "execution_count": 19,
   "id": "7129ea56",
   "metadata": {},
   "outputs": [
    {
     "data": {
      "image/png": "[encoded data removed]",
      "text/plain": [
       "<Figure size 432x288 with 1 Axes>"
      ]
     },
     "metadata": {
      "needs_background": "light"
     },
     "output_type": "display_data"
    },
    {
     "data": {
      "text/plain": [
       "<Figure size 576x432 with 0 Axes>"
      ]
     },
     "metadata": {},
     "output_type": "display_data"
    }
   ],
   "source": [
    "ax = sns.lineplot(data=Meilleur_heure, x='Heure', y='Nombre')\n",
    "\n",
    "x_ticks = range(len(Meilleur_heure['Heure']))\n",
    "x_labels =Meilleur_heure['Heure']\n",
    "\n",
    "ax.set_xticks(x_ticks)\n",
    "ax.set_xticklabels(x_labels, rotation=45, ha='right')\n",
    "\n",
    "\n",
    "plt.title('Délai de vente le plus élevé')\n",
    "plt.xlabel('Heure')\n",
    "plt.ylabel('Nombre de ventes')\n",
    "\n",
    "plt.figure(figsize=(8,6))\n",
    "\n",
    "plt.show()\n"
   ]
  },
  {
   "cell_type": "markdown",
   "id": "be62d791",
   "metadata": {},
   "source": [
    "# 4- Quels sont les produits qui sont souvent achetés ensemble ?"
   ]
  },
  {
   "cell_type": "code",
   "execution_count": 20,
   "id": "cce60ddf",
   "metadata": {},
   "outputs": [],
   "source": [
    "from pyspark.sql.functions import col"
   ]
  },
  {
   "cell_type": "code",
   "execution_count": 21,
   "id": "2685fb9b",
   "metadata": {},
   "outputs": [
    {
     "data": {
      "text/html": [
       "<div>\n",
       "<style scoped>\n",
       "    .dataframe tbody tr th:only-of-type {\n",
       "        vertical-align: middle;\n",
       "    }\n",
       "\n",
       "    .dataframe tbody tr th {\n",
       "        vertical-align: top;\n",
       "    }\n",
       "\n",
       "    .dataframe thead th {\n",
       "        text-align: right;\n",
       "    }\n",
       "</style>\n",
       "<table border=\"1\" class=\"dataframe\">\n",
       "  <thead>\n",
       "    <tr style=\"text-align: right;\">\n",
       "      <th></th>\n",
       "      <th>Order ID</th>\n",
       "      <th>Product</th>\n",
       "      <th>Quantity Ordered</th>\n",
       "      <th>Price Each</th>\n",
       "      <th>Purchase_Address</th>\n",
       "      <th>Month</th>\n",
       "      <th>Sales</th>\n",
       "      <th>City</th>\n",
       "      <th>Hour</th>\n",
       "      <th>Time</th>\n",
       "    </tr>\n",
       "  </thead>\n",
       "  <tbody>\n",
       "    <tr>\n",
       "      <th>0</th>\n",
       "      <td>147268</td>\n",
       "      <td>Wired Headphones</td>\n",
       "      <td>1</td>\n",
       "      <td>11.99</td>\n",
       "      <td>9 Lake St New York City NY 10001</td>\n",
       "      <td>January</td>\n",
       "      <td>11.99</td>\n",
       "      <td>New York City</td>\n",
       "      <td>3</td>\n",
       "      <td>03:07:00</td>\n",
       "    </tr>\n",
       "    <tr>\n",
       "      <th>1</th>\n",
       "      <td>148041</td>\n",
       "      <td>USB-C Charging Cable</td>\n",
       "      <td>1</td>\n",
       "      <td>11.95</td>\n",
       "      <td>760 Church St San Francisco CA 94016</td>\n",
       "      <td>January</td>\n",
       "      <td>11.95</td>\n",
       "      <td>San Francisco</td>\n",
       "      <td>3</td>\n",
       "      <td>03:40:00</td>\n",
       "    </tr>\n",
       "  </tbody>\n",
       "</table>\n",
       "</div>"
      ],
      "text/plain": [
       "   Order ID               Product  Quantity Ordered  Price Each  \\\n",
       "0    147268      Wired Headphones                 1       11.99   \n",
       "1    148041  USB-C Charging Cable                 1       11.95   \n",
       "\n",
       "                       Purchase_Address    Month  Sales           City  Hour  \\\n",
       "0      9 Lake St New York City NY 10001  January  11.99  New York City     3   \n",
       "1  760 Church St San Francisco CA 94016  January  11.95  San Francisco     3   \n",
       "\n",
       "       Time  \n",
       "0  03:07:00  \n",
       "1  03:40:00  "
      ]
     },
     "execution_count": 21,
     "metadata": {},
     "output_type": "execute_result"
    }
   ],
   "source": [
    "spark.sql(\"\"\"\n",
    "\n",
    "    SELECT *  \n",
    "    FROM dataset\n",
    "\"\"\").toPandas().head(2)"
   ]
  },
  {
   "cell_type": "code",
   "execution_count": 22,
   "id": "b9d12a19",
   "metadata": {},
   "outputs": [],
   "source": [
    "# Recherche de lignes en double par \"ID de commande\"\n",
    "df4 = spark.sql(\"\"\"\n",
    "\n",
    "    SELECT *  \n",
    "    FROM dataset\n",
    "    WHERE `Order ID` IN (\n",
    "        Select `Order ID`\n",
    "        FROM dataset\n",
    "        GROUP BY `Order ID`\n",
    "        HAVING COUNT(*) > 1\n",
    "    )    \n",
    "\"\"\")"
   ]
  },
  {
   "cell_type": "code",
   "execution_count": 23,
   "id": "efa218e5",
   "metadata": {},
   "outputs": [],
   "source": [
    "# Regroupement par \"Order ID\" et création d'une colonne \"Grouped\"\n",
    "df5= spark.sql(\"\"\"\n",
    "\n",
    "    SELECT `Order ID` as Order_ID, Product, `Quantity Ordered`, `Price Each`, Purchase_Address, Month, Sales, City, Hour, Time ,\n",
    "        CONCAT_WS(',', COLLECT_SET(Product) OVER (PARTITION BY `Order ID`)) AS Grouped\n",
    "    FROM dataset\n",
    "\"\"\")"
   ]
  },
  {
   "cell_type": "code",
   "execution_count": 24,
   "id": "8cea199a",
   "metadata": {},
   "outputs": [],
   "source": [
    "df5.createOrReplaceTempView(\"dataset_df5\")"
   ]
  },
  {
   "cell_type": "code",
   "execution_count": 25,
   "id": "cc234fe6",
   "metadata": {},
   "outputs": [],
   "source": [
    "# Prendre unique order_id / Supprimer les order_id dupliqués\n",
    "df6 = spark.sql(\"\"\"\n",
    "    SELECT DISTINCT Order_ID , Grouped\n",
    "    FROM dataset_df5\n",
    "\"\"\")"
   ]
  },
  {
   "cell_type": "code",
   "execution_count": 26,
   "id": "d27b0001",
   "metadata": {},
   "outputs": [],
   "source": [
    "pandas_df = df6.toPandas().head(5)"
   ]
  },
  {
   "cell_type": "code",
   "execution_count": 28,
   "id": "99367de9",
   "metadata": {},
   "outputs": [
    {
     "data": {
      "image/png": "[encoded data removed]",
      "text/plain": [
       "<Figure size 432x288 with 1 Axes>"
      ]
     },
     "metadata": {},
     "output_type": "display_data"
    }
   ],
   "source": [
    "pandas_df.plot(kind='pie', y='Order_ID', labels=pandas_df['Grouped'], autopct='%1.1f%%')\n",
    "plt.axis('equal')\n",
    "plt.show()"
   ]
  },
  {
   "cell_type": "markdown",
   "id": "d4856c6d",
   "metadata": {},
   "source": [
    "# **5- Produit le plus vendu**"
   ]
  },
  {
   "cell_type": "code",
   "execution_count": 30,
   "id": "48f29ca8",
   "metadata": {},
   "outputs": [],
   "source": [
    "Plus_Vendu_DF = spark.sql(\"\"\"\n",
    "        SELECT  Product as Produit , SUM( `Quantity Ordered`) as Nombre\n",
    "        From dataset_produit    \n",
    "        GROUP BY Produit\n",
    "\"\"\")"
   ]
  },
  {
   "cell_type": "code",
   "execution_count": 31,
   "id": "ecffc104",
   "metadata": {},
   "outputs": [],
   "source": [
    "pandas_df = Plus_Vendu_DF.toPandas()"
   ]
  },
  {
   "cell_type": "code",
   "execution_count": 32,
   "id": "4bf1a00e",
   "metadata": {},
   "outputs": [
    {
     "data": {
      "text/plain": [
       "<AxesSubplot:xlabel='Produit'>"
      ]
     },
     "execution_count": 32,
     "metadata": {},
     "output_type": "execute_result"
    },
    {
     "data": {
      "image/png": "[encoded data removed]",
      "text/plain": [
       "<Figure size 432x288 with 1 Axes>"
      ]
     },
     "metadata": {
      "needs_background": "light"
     },
     "output_type": "display_data"
    }
   ],
   "source": [
    "pandas_df.plot(x='Produit', y='Nombre' , kind='bar')"
   ]
  },
  {
   "cell_type": "code",
   "execution_count": null,
   "id": "fbe3c3f5",
   "metadata": {},
   "outputs": [],
   "source": []
  }
 ],
 "metadata": {
  "kernelspec": {
   "display_name": "Python 3 (ipykernel)",
   "language": "python",
   "name": "python3"
  },
  "language_info": {
   "codemirror_mode": {
    "name": "ipython",
    "version": 3
   },
   "file_extension": ".py",
   "mimetype": "text/x-python",
   "name": "python",
   "nbconvert_exporter": "python",
   "pygments_lexer": "ipython3",
   "version": "3.10.1"
  }
 },
 "nbformat": 4,
 "nbformat_minor": 5
}
